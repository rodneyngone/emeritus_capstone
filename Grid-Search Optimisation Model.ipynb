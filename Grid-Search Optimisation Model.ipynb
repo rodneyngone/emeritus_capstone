{
 "cells": [
  {
   "cell_type": "markdown",
   "id": "3e578d39-3087-4e18-aaaf-f4f9d592745a",
   "metadata": {},
   "source": [
    "# Optimisation on Logistic Regression using Grid Search\n",
    "\n",
    "In this repo, we use the HEBO package to perform Bayesian Optimisation Hyperparameter search. We will use this to try to find the optimal hyper-parameters for a Logistic Regression model to classify returns on Gold daily prices."
   ]
  },
  {
   "cell_type": "markdown",
   "id": "1f15b0fb-db3e-4226-8ef4-0ba2ca814ced",
   "metadata": {},
   "source": [
    "### Import Packages"
   ]
  },
  {
   "cell_type": "code",
   "execution_count": 120,
   "id": "073b831f-a620-47c8-95f0-362d969d0c8a",
   "metadata": {},
   "outputs": [],
   "source": [
    "import sys\n",
    "\n",
    "import numpy as np\n",
    "import pandas as pd\n",
    "from matplotlib import pyplot as plt\n",
    "\n",
    "%matplotlib inline\n",
    "\n",
    "from sklearn.model_selection import train_test_split\n",
    "from sklearn.preprocessing import StandardScaler\n",
    "from sklearn.model_selection import GridSearchCV\n",
    "from sklearn.linear_model import LogisticRegression\n",
    "from sklearn.metrics import accuracy_score\n",
    "\n",
    "from hebo.optimizers.bo import BO\n",
    "from hebo.design_space.design_space import DesignSpace"
   ]
  },
  {
   "cell_type": "markdown",
   "id": "ba798bea-15f6-480c-b49b-cda1de43f11a",
   "metadata": {},
   "source": [
    "# Data\n",
    "\n",
    "For this notebook, we will work with daily gold price historical data available on Kaggle: \n",
    "\n",
    "https://www.kaggle.com/datasets/psycon/daily-gold-price-historical-data\n",
    "\n",
    "The objective is to determine the next-day's forward return sign by training a model on past data. This is a straightforward supervised machine learning classification tast: given past data, we want to train a binary outcome on test data."
   ]
  },
  {
   "cell_type": "code",
   "execution_count": 30,
   "id": "e702df55-8b60-4301-b6e4-547f0b269ed8",
   "metadata": {},
   "outputs": [
    {
     "data": {
      "text/html": [
       "<div>\n",
       "<style scoped>\n",
       "    .dataframe tbody tr th:only-of-type {\n",
       "        vertical-align: middle;\n",
       "    }\n",
       "\n",
       "    .dataframe tbody tr th {\n",
       "        vertical-align: top;\n",
       "    }\n",
       "\n",
       "    .dataframe thead th {\n",
       "        text-align: right;\n",
       "    }\n",
       "</style>\n",
       "<table border=\"1\" class=\"dataframe\">\n",
       "  <thead>\n",
       "    <tr style=\"text-align: right;\">\n",
       "      <th></th>\n",
       "      <th>Date</th>\n",
       "      <th>Open</th>\n",
       "      <th>High</th>\n",
       "      <th>Low</th>\n",
       "      <th>Close</th>\n",
       "      <th>Volume</th>\n",
       "      <th>Currency</th>\n",
       "    </tr>\n",
       "  </thead>\n",
       "  <tbody>\n",
       "    <tr>\n",
       "      <th>0</th>\n",
       "      <td>2000-01-04</td>\n",
       "      <td>289.5</td>\n",
       "      <td>289.5</td>\n",
       "      <td>280.0</td>\n",
       "      <td>283.7</td>\n",
       "      <td>21621</td>\n",
       "      <td>USD</td>\n",
       "    </tr>\n",
       "    <tr>\n",
       "      <th>1</th>\n",
       "      <td>2000-01-05</td>\n",
       "      <td>283.7</td>\n",
       "      <td>285.0</td>\n",
       "      <td>281.0</td>\n",
       "      <td>282.1</td>\n",
       "      <td>25448</td>\n",
       "      <td>USD</td>\n",
       "    </tr>\n",
       "    <tr>\n",
       "      <th>2</th>\n",
       "      <td>2000-01-06</td>\n",
       "      <td>281.6</td>\n",
       "      <td>282.8</td>\n",
       "      <td>280.2</td>\n",
       "      <td>282.4</td>\n",
       "      <td>19055</td>\n",
       "      <td>USD</td>\n",
       "    </tr>\n",
       "    <tr>\n",
       "      <th>3</th>\n",
       "      <td>2000-01-07</td>\n",
       "      <td>282.5</td>\n",
       "      <td>284.5</td>\n",
       "      <td>282.0</td>\n",
       "      <td>282.9</td>\n",
       "      <td>11266</td>\n",
       "      <td>USD</td>\n",
       "    </tr>\n",
       "    <tr>\n",
       "      <th>4</th>\n",
       "      <td>2000-01-10</td>\n",
       "      <td>282.4</td>\n",
       "      <td>283.9</td>\n",
       "      <td>281.8</td>\n",
       "      <td>282.7</td>\n",
       "      <td>30603</td>\n",
       "      <td>USD</td>\n",
       "    </tr>\n",
       "  </tbody>\n",
       "</table>\n",
       "</div>"
      ],
      "text/plain": [
       "         Date   Open   High    Low  Close  Volume Currency\n",
       "0  2000-01-04  289.5  289.5  280.0  283.7   21621      USD\n",
       "1  2000-01-05  283.7  285.0  281.0  282.1   25448      USD\n",
       "2  2000-01-06  281.6  282.8  280.2  282.4   19055      USD\n",
       "3  2000-01-07  282.5  284.5  282.0  282.9   11266      USD\n",
       "4  2000-01-10  282.4  283.9  281.8  282.7   30603      USD"
      ]
     },
     "execution_count": 30,
     "metadata": {},
     "output_type": "execute_result"
    }
   ],
   "source": [
    "# read in raw data\n",
    "df = pd.read_csv('data/gold.csv')\n",
    "df.head()"
   ]
  },
  {
   "cell_type": "code",
   "execution_count": 31,
   "id": "ecd3152d-23bf-4d26-9de8-13ac3b9c0b8d",
   "metadata": {},
   "outputs": [],
   "source": [
    "# prep dataframe\n",
    "df = df.set_index('Date').drop(columns='Currency')\n",
    "df.index = pd.to_datetime(df.index)\n",
    "df.columns = [x.lower() for x in df.columns]"
   ]
  },
  {
   "cell_type": "code",
   "execution_count": 32,
   "id": "524afb5a-28d5-4198-83bb-9182a3242539",
   "metadata": {},
   "outputs": [
    {
     "name": "stdout",
     "output_type": "stream",
     "text": [
      "<class 'pandas.core.frame.DataFrame'>\n",
      "DatetimeIndex: 5703 entries, 2000-01-04 to 2022-09-02\n",
      "Data columns (total 5 columns):\n",
      " #   Column  Non-Null Count  Dtype  \n",
      "---  ------  --------------  -----  \n",
      " 0   open    5703 non-null   float64\n",
      " 1   high    5703 non-null   float64\n",
      " 2   low     5703 non-null   float64\n",
      " 3   close   5703 non-null   float64\n",
      " 4   volume  5703 non-null   int64  \n",
      "dtypes: float64(4), int64(1)\n",
      "memory usage: 267.3 KB\n"
     ]
    }
   ],
   "source": [
    "# look at dataframe\n",
    "df.info()"
   ]
  },
  {
   "cell_type": "code",
   "execution_count": 33,
   "id": "ff4ad299-7a2b-48cb-8cb6-190a7dc776cc",
   "metadata": {},
   "outputs": [
    {
     "name": "stdout",
     "output_type": "stream",
     "text": [
      "Total zeros in open column: 0\n",
      "Total zeros in high column: 0\n",
      "Total zeros in low column: 0\n",
      "Total zeros in close column: 0\n",
      "Total zeros in volume column: 10\n"
     ]
    }
   ],
   "source": [
    "# check for zeros, or outliers\n",
    "num = 0\n",
    "for i in df.columns:\n",
    "    zero_count = df[i][df[i]==0].count()\n",
    "    print(f'Total zeros in {i} column: {zero_count}')"
   ]
  },
  {
   "cell_type": "code",
   "execution_count": 35,
   "id": "80ee6959-606b-4393-b55c-f31ced381db8",
   "metadata": {},
   "outputs": [],
   "source": [
    "# drop zero volume rows\n",
    "df = df[df.volume!=0]"
   ]
  },
  {
   "cell_type": "markdown",
   "id": "377aa46c-3881-41ce-a688-9333fd410759",
   "metadata": {},
   "source": [
    "### Convert non-stationary prices into stationary returns"
   ]
  },
  {
   "cell_type": "code",
   "execution_count": 74,
   "id": "fb7f1147-f717-430a-a944-376501ec5e8f",
   "metadata": {},
   "outputs": [],
   "source": [
    "# create X, y partitions\n",
    "X = (np.log(df/df.shift(1))).dropna()\n",
    "y = np.sign(np.log(df.close.shift(-1)/df.close).dropna())\n",
    "y.name = 'y'\n",
    "\n",
    "# remove zero ys\n",
    "y = y[y!=0]\n",
    "\n",
    "# join X,y\n",
    "train_df = pd.concat((X, y), axis=1, join='inner')\n",
    "# re-split\n",
    "y = train_df.y\n",
    "X = train_df.drop(columns='y')"
   ]
  },
  {
   "cell_type": "markdown",
   "id": "31912137-ffce-4125-a466-ac75f2c24a67",
   "metadata": {},
   "source": [
    "### Distribution of Label"
   ]
  },
  {
   "cell_type": "code",
   "execution_count": 75,
   "id": "fb662453-6dd9-4879-8b09-623487895759",
   "metadata": {},
   "outputs": [
    {
     "data": {
      "image/png": "[encoded data removed]",
      "text/plain": [
       "<Figure size 432x288 with 1 Axes>"
      ]
     },
     "metadata": {
      "needs_background": "light"
     },
     "output_type": "display_data"
    }
   ],
   "source": [
    "plt.hist(y, edgecolor='k');\n",
    "plt.xlabel('Label'); plt.ylabel('Count'); plt.title('Count of Labels');"
   ]
  },
  {
   "cell_type": "markdown",
   "id": "a4d525f0-a24f-4c97-a0fd-426c66cd83cd",
   "metadata": {},
   "source": [
    "There is a small class imbalance here that will be accounted for when using the Logistic Regression model."
   ]
  },
  {
   "cell_type": "markdown",
   "id": "e60aa556-9cdc-441d-b47c-d022c498bb2e",
   "metadata": {},
   "source": [
    "### Separate into training and testing sets "
   ]
  },
  {
   "cell_type": "code",
   "execution_count": 86,
   "id": "1a21d56d-5b27-4c21-a4ac-635b7fbbbcfb",
   "metadata": {},
   "outputs": [],
   "source": [
    "# assumptions: 70% training, 30% test\n",
    "X_train, X_test, y_train, y_test = train_test_split(X, y, test_size=0.3, shuffle=False)"
   ]
  },
  {
   "cell_type": "markdown",
   "id": "7efbb9ac-3035-4af8-a702-63899e1136ba",
   "metadata": {},
   "source": [
    "### Scale X training and test set"
   ]
  },
  {
   "cell_type": "code",
   "execution_count": 87,
   "id": "fcab6594-ed4a-4959-88d0-13f8d313ea4c",
   "metadata": {},
   "outputs": [],
   "source": [
    "# create scaling model\n",
    "sca_model = StandardScaler()"
   ]
  },
  {
   "cell_type": "code",
   "execution_count": 88,
   "id": "97cdbb61-9d65-479e-a4aa-44fdc00fbb22",
   "metadata": {},
   "outputs": [],
   "source": [
    "# fit model to training data\n",
    "sca_model.fit(X_train);"
   ]
  },
  {
   "cell_type": "code",
   "execution_count": 89,
   "id": "e8486108-f7d0-45d3-85b4-256bc0207394",
   "metadata": {},
   "outputs": [],
   "source": [
    "# transform the raw data\n",
    "X_train = sca_model.transform(X_train)\n",
    "X_test = sca_model.transform(X_test)"
   ]
  },
  {
   "cell_type": "markdown",
   "id": "d15e0e9e-71ed-479c-a966-9ead1105bf2d",
   "metadata": {},
   "source": [
    "# Logistic Regression Model"
   ]
  },
  {
   "cell_type": "markdown",
   "id": "e4196049-31a5-45e7-b758-7db0781f29ca",
   "metadata": {},
   "source": [
    "We will use the SciKit-Learn implementation of the Logistic Regression model. Due to the small imbalance in our classes, we shall ensure our class weights are set to balanced."
   ]
  },
  {
   "cell_type": "code",
   "execution_count": 100,
   "id": "b1e890a3-00f5-46a4-8db3-1876225f4560",
   "metadata": {},
   "outputs": [],
   "source": [
    "# set model\n",
    "model = LogisticRegression(fit_intercept=True, class_weight='balanced', random_state=42)"
   ]
  },
  {
   "cell_type": "markdown",
   "id": "a0b53747-6594-42b8-adc1-9085d0c2953b",
   "metadata": {},
   "source": [
    "We shall set a wide range of parameters for the grid search"
   ]
  },
  {
   "cell_type": "code",
   "execution_count": 101,
   "id": "eeb77dc5-7fd2-4688-8315-0ddcb14fc865",
   "metadata": {},
   "outputs": [],
   "source": [
    "# set hyper parameters\n",
    "parameters = [{'solver': ['newton-cg', 'lbfgs', 'liblinear', 'sag', 'saga']},\n",
    "              {'penalty': ['none', 'elasticnet', 'l1', 'l2']},\n",
    "              {'C': [0.001, 0.01, 0.1, 1, 10, 100]}]"
   ]
  },
  {
   "cell_type": "markdown",
   "id": "1aa9d9e1-f19e-4b31-a0b9-6985dd3a3cb2",
   "metadata": {},
   "source": [
    "We shall implement SciKit-Learn's out of the box GridSearchCV implementation that also incorporates cross-validation within training with accuracy as our metric"
   ]
  },
  {
   "cell_type": "code",
   "execution_count": 112,
   "id": "05c85533-0e61-45fd-9585-66d030f3de91",
   "metadata": {},
   "outputs": [],
   "source": [
    "# set grid search\n",
    "grid_search = GridSearchCV(estimator=model, param_grid=parameters, scoring='accuracy', cv=3, verbose=2)"
   ]
  },
  {
   "cell_type": "markdown",
   "id": "8031ecf9-9622-4ccc-abf9-c20355013ee2",
   "metadata": {},
   "source": [
    "All we need to do is to fit the model on the training data and make predictions on the testing data."
   ]
  },
  {
   "cell_type": "code",
   "execution_count": 113,
   "id": "ac328385-cf21-43e4-97cd-4615c5f74ee2",
   "metadata": {},
   "outputs": [
    {
     "name": "stdout",
     "output_type": "stream",
     "text": [
      "Fitting 3 folds for each of 15 candidates, totalling 45 fits\n",
      "[CV] END ...................................solver=newton-cg; total time=   0.0s\n",
      "[CV] END ...................................solver=newton-cg; total time=   0.0s\n",
      "[CV] END ...................................solver=newton-cg; total time=   0.0s\n",
      "[CV] END .......................................solver=lbfgs; total time=   0.0s\n",
      "[CV] END .......................................solver=lbfgs; total time=   0.0s\n",
      "[CV] END .......................................solver=lbfgs; total time=   0.0s\n",
      "[CV] END ...................................solver=liblinear; total time=   0.0s\n",
      "[CV] END ...................................solver=liblinear; total time=   0.0s\n",
      "[CV] END ...................................solver=liblinear; total time=   0.0s\n",
      "[CV] END .........................................solver=sag; total time=   0.0s\n",
      "[CV] END .........................................solver=sag; total time=   0.0s\n",
      "[CV] END .........................................solver=sag; total time=   0.0s\n",
      "[CV] END ........................................solver=saga; total time=   0.0s\n",
      "[CV] END ........................................solver=saga; total time=   0.0s\n",
      "[CV] END ........................................solver=saga; total time=   0.0s\n",
      "[CV] END .......................................penalty=none; total time=   0.0s\n",
      "[CV] END .......................................penalty=none; total time=   0.0s\n",
      "[CV] END .......................................penalty=none; total time=   0.0s\n",
      "[CV] END .................................penalty=elasticnet; total time=   0.0s\n",
      "[CV] END .................................penalty=elasticnet; total time=   0.0s\n",
      "[CV] END .................................penalty=elasticnet; total time=   0.0s\n",
      "[CV] END .........................................penalty=l1; total time=   0.0s\n",
      "[CV] END .........................................penalty=l1; total time=   0.0s\n",
      "[CV] END .........................................penalty=l1; total time=   0.0s\n",
      "[CV] END .........................................penalty=l2; total time=   0.0s\n",
      "[CV] END .........................................penalty=l2; total time=   0.0s\n",
      "[CV] END .........................................penalty=l2; total time=   0.0s\n",
      "[CV] END ............................................C=0.001; total time=   0.0s\n",
      "[CV] END ............................................C=0.001; total time=   0.0s\n",
      "[CV] END ............................................C=0.001; total time=   0.0s\n",
      "[CV] END .............................................C=0.01; total time=   0.0s\n",
      "[CV] END .............................................C=0.01; total time=   0.0s\n",
      "[CV] END .............................................C=0.01; total time=   0.0s\n",
      "[CV] END ..............................................C=0.1; total time=   0.0s\n",
      "[CV] END ..............................................C=0.1; total time=   0.0s\n",
      "[CV] END ..............................................C=0.1; total time=   0.0s\n",
      "[CV] END ................................................C=1; total time=   0.0s\n",
      "[CV] END ................................................C=1; total time=   0.0s\n",
      "[CV] END ................................................C=1; total time=   0.0s\n",
      "[CV] END ...............................................C=10; total time=   0.0s\n",
      "[CV] END ...............................................C=10; total time=   0.0s\n",
      "[CV] END ...............................................C=10; total time=   0.0s\n",
      "[CV] END ..............................................C=100; total time=   0.0s\n",
      "[CV] END ..............................................C=100; total time=   0.0s\n",
      "[CV] END ..............................................C=100; total time=   0.0s\n"
     ]
    },
    {
     "data": {
      "text/plain": [
       "GridSearchCV(cv=3,\n",
       "             estimator=LogisticRegression(class_weight='balanced',\n",
       "                                          random_state=42),\n",
       "             param_grid=[{'solver': ['newton-cg', 'lbfgs', 'liblinear', 'sag',\n",
       "                                     'saga']},\n",
       "                         {'penalty': ['none', 'elasticnet', 'l1', 'l2']},\n",
       "                         {'C': [0.001, 0.01, 0.1, 1, 10, 100]}],\n",
       "             scoring='accuracy', verbose=2)"
      ]
     },
     "execution_count": 113,
     "metadata": {},
     "output_type": "execute_result"
    }
   ],
   "source": [
    "# fit model\n",
    "grid_search.fit(X_train, y_train)"
   ]
  },
  {
   "cell_type": "code",
   "execution_count": 125,
   "id": "a5f96121-de45-43cf-8d4a-3b38c8f8d39d",
   "metadata": {},
   "outputs": [
    {
     "name": "stdout",
     "output_type": "stream",
     "text": [
      "tuned hyperparameters :(best parameters)  {'C': 0.01}\n",
      "in-sample accuracy : 0.5293694643886084\n",
      "out-of-sample accuracy : 0.5200708382526564\n"
     ]
    }
   ],
   "source": [
    "test_predictions = grid_search.predict(X_test)\n",
    "out_sample_accuracy = accuracy_score(y_test, test_predictions)\n",
    "\n",
    "print(\"tuned hyperparameters :(best parameters) \",grid_search.best_params_)\n",
    "print(\"in-sample accuracy :\",grid_search.best_score_)\n",
    "print(\"out-of-sample accuracy :\", out_sample_accuracy)"
   ]
  },
  {
   "cell_type": "markdown",
   "id": "73edd5c4-7c98-44b8-9d13-6d742392040c",
   "metadata": {},
   "source": [
    "The results are encouraging for financial data but given the small size of the dataset, in order to improve performance, it probably makes sense to gather more data and create additional features"
   ]
  }
 ],
 "metadata": {
  "kernelspec": {
   "display_name": "fml",
   "language": "python",
   "name": "fml"
  },
  "language_info": {
   "codemirror_mode": {
    "name": "ipython",
    "version": 3
   },
   "file_extension": ".py",
   "mimetype": "text/x-python",
   "name": "python",
   "nbconvert_exporter": "python",
   "pygments_lexer": "ipython3",
   "version": "3.8.12"
  }
 },
 "nbformat": 4,
 "nbformat_minor": 5
}
